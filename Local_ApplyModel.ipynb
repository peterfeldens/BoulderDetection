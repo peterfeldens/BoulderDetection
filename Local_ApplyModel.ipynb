{
 "cells": [
  {
   "cell_type": "code",
   "execution_count": null,
   "metadata": {},
   "outputs": [],
   "source": [
    "import os\n",
    "from PIL import Image\n",
    "import numpy as np\n",
    "from tqdm import tqdm\n",
    "import functions as asf\n"
   ]
  },
  {
   "cell_type": "code",
   "execution_count": null,
   "metadata": {
    "pycharm": {
     "name": "#%%\n"
    }
   },
   "outputs": [],
   "source": [
    "base_folder = './'  #end with /\n",
    "os.chdir(base_folder)\n",
    "\n",
    "darknet = \"/home/peter/opt/darknet/\"\n",
    "model_folder = base_folder + 'trained_models/SSS_v5_128/'\n",
    "obj_data = model_folder + 'obj.data'\n",
    "cfg = model_folder + 'yolov4.cfg'\n",
    "weights = model_folder + 'yolov4_best.weights'\n",
    "thresh = 0.1\n",
    "\n",
    "\n",
    "apply_folder = base_folder + 'apply/'\n",
    "mosaic_folder = base_folder + 'apply/_todo/'\n",
    "done_folder = base_folder + 'apply/_done/'\n",
    "tile_folder = base_folder + \"apply/tiles\"\n",
    "\n",
    "pixels = 128    # should correspond to model pixel size\n",
    "greyscale = 1 #for SSS images yes, for multiband MBES image no\n",
    "delete_background_images = 1\n",
    "make_tfw = 0\n",
    "convert_to_png = 1\n"
   ]
  },
  {
   "cell_type": "code",
   "execution_count": null,
   "metadata": {
    "pycharm": {
     "name": "#%%\n"
    }
   },
   "outputs": [],
   "source": [
    "#Preparation\n",
    "files = asf.getfiles('tif', mosaic_folder)\n",
    "for file in tqdm(files):\n",
    "    print(\"Working on file\")\n",
    "    full_path = mosaic_folder + file\n",
    "    cmd = \"mv \" + full_path + \" \"   + apply_folder\n",
    "    result = base_folder + file + str(pixels) + \"detect_result.json\"\n",
    "    os.system(cmd)\n",
    "    result_qgis = base_folder + file + str(pixels) + \"detect_result.txt\"\n",
    "\n",
    "    #Empty tile folder\n",
    "    for path, subdirs, files in os.walk(tile_folder):\n",
    "        for filename in files:\n",
    "            os.remove(path + '/' + filename)\n",
    "\n",
    "    # convert to greyscale if needed\n",
    "    if greyscale > 0:\n",
    "        print(\"Conerting tp Greyscale\")\n",
    "        cmd = \"python ./convert_to_greyscale.py \" + apply_folder + \" \" + apply_folder + \" --tag band1_ .tif \"\n",
    "        os.system(cmd)\n",
    "        cmd = \"mv \" + apply_folder + file + \" \" + done_folder\n",
    "        os.system(cmd)\n",
    "        print(\"Moving \", file , \" to Done Folder and continue with first band only\")\n",
    "        file = \"band1_\" + file\n",
    "\n",
    "    # Cut into tiles\n",
    "    print(\"Cutting\")\n",
    "    cmd = \"python ./cut_image_to_tiles.py \" + apply_folder + \" \" + tile_folder + \" \" +  str(pixels) +\" .tif\"\n",
    "    os.system(cmd)\n",
    "\n",
    "    # delete background images\n",
    "    if delete_background_images > 0:\n",
    "        cmd = \"python ./delete_low_stddev_images.py \" + tile_folder + \" .tif 4.0 \"\n",
    "        os.system(cmd)\n",
    "\n",
    "    if convert_to_png > 0:\n",
    "        print(\"Convert to png\")\n",
    "        cmd = \"python ./convert_to_png.py \" + tile_folder\n",
    "        os.system(cmd)\n",
    "\n",
    "    if make_tfw > 0:\n",
    "        print(\"Making tfw\")\n",
    "        cmd = \"python ./create_tfw.py \"+ tile_folder + \" .tif 1 .tfw\"\n",
    "        os.system(cmd)"
   ]
  },
  {
   "cell_type": "code",
   "execution_count": null,
   "metadata": {
    "pycharm": {
     "name": "#%%\n"
    }
   },
   "outputs": [],
   "source": [
    "#Make text file with files to be used\n",
    "detect_path = apply_folder + \"detect.txt\"\n",
    "#Make test and train.txt with link to files\n",
    "with open(detect_path, \"w\") as a:\n",
    "    for path, subdirs, files in os.walk(tile_folder):\n",
    "        for filename in files:\n",
    "            if filename.endswith(\".png\"):\n",
    "                f = os.path.join(path, filename)\n",
    "                a.write(str(f) + os.linesep)\n"
   ]
  },
  {
   "cell_type": "code",
   "execution_count": null,
   "metadata": {
    "pycharm": {
     "name": "#%%\n"
    }
   },
   "outputs": [],
   "source": [
    "# Run detection and clean up\n",
    "os.chdir(darknet)\n",
    "cmd = \"./darknet  detector test \" +  obj_data + \" \" +  cfg  +\" \" + weights +\" -dont_show -thresh \" + str(thresh) + \"  -ext_output -out \"+ result +\"  < \"  + detect_path\n",
    "os.system(cmd)\n",
    "\n",
    "os.chdir(apply_folder)\n",
    "cmd = \"python ./../yolo_parse_results.py --directory=\" + result + \" --outfile=\"+result_qgis\n",
    "os.system(cmd)\n",
    "\n",
    "for path, subdirs, files in os.walk(tile_folder):\n",
    "    for filename in files:\n",
    "      os.remove(path + '/' + filename)\n",
    "\n",
    "full_path = apply_folder + file\n",
    "cmd = \"mv \" + full_path + \" \" + done_folder\n",
    "os.system(cmd)"
   ]
  }
 ],
 "metadata": {
  "kernelspec": {
   "display_name": "Python 3",
   "language": "python",
   "name": "python3"
  },
  "language_info": {
   "codemirror_mode": {
    "name": "ipython",
    "version": 3
   },
   "file_extension": ".py",
   "mimetype": "text/x-python",
   "name": "python",
   "nbconvert_exporter": "python",
   "pygments_lexer": "ipython3",
   "version": "3.8.5"
  }
 },
 "nbformat": 4,
 "nbformat_minor": 5
}
